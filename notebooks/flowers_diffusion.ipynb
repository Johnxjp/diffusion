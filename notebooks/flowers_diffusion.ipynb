{
 "cells": [
  {
   "cell_type": "code",
   "execution_count": null,
   "metadata": {},
   "outputs": [],
   "source": [
    "%load_ext autoreload\n",
    "%autoreload 2"
   ]
  },
  {
   "cell_type": "code",
   "execution_count": null,
   "metadata": {},
   "outputs": [],
   "source": [
    "from typing import Callable, Sequence\n",
    "\n",
    "import numpy as np\n",
    "import matplotlib.pyplot as plt\n",
    "import scipy\n",
    "import torch\n",
    "import torch.nn as nn\n",
    "import torch.nn.functional as F\n",
    "import torch.utils.data as torch_data\n",
    "import torch.optim as optim\n",
    "import torchvision"
   ]
  },
  {
   "cell_type": "code",
   "execution_count": null,
   "metadata": {},
   "outputs": [],
   "source": [
    "import sys\n",
    "src_path = \"..\"\n",
    "if src_path not in sys.path:\n",
    "    sys.path.append(src_path)"
   ]
  },
  {
   "cell_type": "code",
   "execution_count": null,
   "metadata": {},
   "outputs": [],
   "source": [
    "from src.diffusion_model import DiffusionUNet\n",
    "import src.diffusion_schedulers as diffusion_schedulers\n",
    "from src.train import train as train_model\n",
    "from src.sample import ddim_sampler\n",
    "from src.utils import tensor_to_pil"
   ]
  },
  {
   "cell_type": "code",
   "execution_count": null,
   "metadata": {},
   "outputs": [],
   "source": [
    "dataset_dir = \"../datasets/flowers_2/\""
   ]
  },
  {
   "cell_type": "markdown",
   "metadata": {},
   "source": [
    "First we will convert the image file into a tensor"
   ]
  },
  {
   "cell_type": "code",
   "execution_count": null,
   "metadata": {},
   "outputs": [],
   "source": [
    "def transforms():\n",
    "    \"\"\" \n",
    "    ToTensor: \n",
    "        Converts a PIL Image or numpy.ndarray (H x W x C) in the range [0, 255] \n",
    "        to a torch.FloatTensor of shape (C x H x W) in the range [0.0, 1.0]\n",
    "\n",
    "    Resize:\n",
    "        Resize the input image to the given size. \n",
    "        If the image is torch Tensor, it is expected to have […, H, W] shape\n",
    "    \"\"\"\n",
    "    return torchvision.transforms.Compose([\n",
    "        torchvision.transforms.Resize(\n",
    "            (64, 64), \n",
    "            interpolation=torchvision.transforms.functional.InterpolationMode.BILINEAR\n",
    "        ),\n",
    "        torchvision.transforms.ToTensor(),\n",
    "    ])"
   ]
  },
  {
   "cell_type": "code",
   "execution_count": null,
   "metadata": {},
   "outputs": [],
   "source": [
    "train_dataset = torchvision.datasets.Flowers102(dataset_dir, split=\"train\", transform=transforms(), download=True)\n",
    "valid_dataset = torchvision.datasets.Flowers102(dataset_dir, split=\"val\", transform=transforms(), download=True)\n",
    "test_dataset = torchvision.datasets.Flowers102(dataset_dir, split=\"test\", transform=transforms(), download=True)"
   ]
  },
  {
   "cell_type": "code",
   "execution_count": null,
   "metadata": {},
   "outputs": [],
   "source": [
    "len(train_dataset), len(valid_dataset), len(test_dataset), "
   ]
  },
  {
   "cell_type": "code",
   "execution_count": null,
   "metadata": {},
   "outputs": [],
   "source": [
    "steps = 1000\n",
    "diffusion_times = np.linspace(0.0, 1.0, steps)\n",
    "linrates = diffusion_schedulers.linear(0.001, 0.02, diffusion_times)\n",
    "quadratic = diffusion_schedulers.quadratic(0.001, 0.02, diffusion_times)\n",
    "cosrates = diffusion_schedulers.cosine(diffusion_times, offset=0)\n",
    "offset_cosine = diffusion_schedulers.cosine(diffusion_times, offset=0.1)\n",
    "f, (ax1, ax2) = plt.subplots(1, 2, figsize = (15, 5))\n",
    "ax1.plot(np.linspace(0, 1, steps), linrates, label=\"linear\")\n",
    "ax1.plot(np.linspace(0, 1, steps), cosrates, label=\"cosine\")\n",
    "ax1.plot(np.linspace(0, 1, steps), quadratic, label=\"quadratic\")\n",
    "ax1.plot(np.linspace(0, 1, steps), offset_cosine, label=\"offset_cosine\")\n",
    "ax1.legend()\n",
    "ax1.set_title(\"signal\")\n",
    "\n",
    "ax2.plot(np.linspace(0, 1, steps), 1 - linrates, label=\"linear\")\n",
    "ax2.plot(np.linspace(0, 1, steps), 1 - cosrates, label=\"cosine\")\n",
    "ax2.plot(np.linspace(0, 1, steps), 1 - quadratic, label=\"quadratic\")\n",
    "ax2.plot(np.linspace(0, 1, steps), 1 - offset_cosine, label=\"offset_cosine\")\n",
    "ax2.legend()\n",
    "ax2.set_title(\"noise\")"
   ]
  },
  {
   "cell_type": "code",
   "execution_count": null,
   "metadata": {},
   "outputs": [],
   "source": [
    "def image_corruption(\n",
    "    input_image: torch.Tensor, \n",
    "    max_steps: int,\n",
    "    schedule: Callable[list[float], list[float]]\n",
    ") -> torch.Tensor:\n",
    "    \"\"\" Returns image corrupted at different time steps \"\"\"\n",
    "    diffusion_times = np.linspace(0.0, 1.0, num=max_steps)\n",
    "    alpha_bars = torch.Tensor(schedule(diffusion_times)).view(max_steps, 1, 1, 1)\n",
    "    input_repeated = input_image.repeat((max_steps, 1, 1, 1))\n",
    "    gaussian_noise = torch.randn((max_steps, input_image.shape[0], input_image.shape[1], input_image.shape[2]))\n",
    "    images = torch.sqrt(alpha_bars) * input_repeated + torch.sqrt(1 - alpha_bars) * gaussian_noise\n",
    "    return torch.cat((torch.unsqueeze(input_image, 0), images))"
   ]
  },
  {
   "cell_type": "code",
   "execution_count": null,
   "metadata": {},
   "outputs": [],
   "source": [
    "steps = 1000\n",
    "test_batch_data = test_dataset[0]\n",
    "linear_corrupted = image_corruption(test_batch_data[0], steps, lambda s: diffusion_schedulers.linear(0.0001, 0.02, s))\n",
    "quadratic_corrupted = image_corruption(test_batch_data[0], steps, lambda s: diffusion_schedulers.quadratic(0.0001, 0.02, s))\n",
    "cosine_corrupted = image_corruption(test_batch_data[0], steps, lambda s: diffusion_schedulers.cosine(s))\n",
    "f, ax = plt.subplots(3, int(steps / 100), sharey=True, figsize=(20, 5))\n",
    "for i in range(len(ax[0])):\n",
    "    img = linear_corrupted[i * 100]\n",
    "    ax[0][i].imshow(tensor_to_pil(img))\n",
    "    ax[0][i].axis(\"off\")\n",
    "\n",
    "    img = quadratic_corrupted[i * 100]\n",
    "    ax[1][i].imshow(tensor_to_pil(img))\n",
    "    ax[1][i].axis(\"off\")\n",
    "\n",
    "    img = cosine_corrupted[i * 100]\n",
    "    ax[2][i].imshow(tensor_to_pil(img))\n",
    "    ax[2][i].axis(\"off\")\n",
    "\n",
    "    \n",
    "f.tight_layout(pad=0, h_pad=0, w_pad=0)"
   ]
  },
  {
   "cell_type": "markdown",
   "metadata": {},
   "source": [
    "# Model Definition"
   ]
  },
  {
   "cell_type": "code",
   "execution_count": null,
   "metadata": {},
   "outputs": [],
   "source": [
    "model = DiffusionUNet(\n",
    "    in_channels=3,\n",
    "    out_channels=3,\n",
    "    base_channels=32,\n",
    "    image_resolution=64,\n",
    "    num_res_blocks=2,\n",
    "    channel_multipliers=[1, 2, 4, 8],\n",
    "    attention_resolutions=[16],\n",
    "    dropout=0.1,\n",
    "    resample_with_conv=True,\n",
    "    time_emb_dim=128,\n",
    ")   "
   ]
  },
  {
   "cell_type": "code",
   "execution_count": null,
   "metadata": {},
   "outputs": [],
   "source": [
    "model.config()"
   ]
  },
  {
   "cell_type": "code",
   "execution_count": null,
   "metadata": {},
   "outputs": [],
   "source": [
    "batch_size = 4\n",
    "x = torch.randn(batch_size, 3, 64, 64)\n",
    "t = torch.randn((batch_size,))\n",
    "\n",
    "print(\"input\", x.shape, \"noise shape\", t.shape)\n",
    "y = model(x, t)\n",
    "print(\"output\", y.shape)"
   ]
  },
  {
   "cell_type": "markdown",
   "metadata": {},
   "source": [
    "## Training"
   ]
  },
  {
   "cell_type": "code",
   "execution_count": null,
   "metadata": {},
   "outputs": [],
   "source": [
    "train_dataloader = torch_data.DataLoader(train_dataset, batch_size=batch_size, shuffle=True, drop_last=True)\n",
    "valid_dataloader = torch_data.DataLoader(valid_dataset, batch_size=batch_size, shuffle=True, drop_last=True)"
   ]
  },
  {
   "cell_type": "code",
   "execution_count": null,
   "metadata": {},
   "outputs": [],
   "source": [
    "epochs = 10\n",
    "batch_size = 4\n",
    "model = DiffusionUNet(\n",
    "    in_channels=3,\n",
    "    out_channels=3,\n",
    "    base_channels=32,\n",
    "    image_resolution=64,\n",
    "    num_res_blocks=2,\n",
    "    channel_multipliers=[1, 2, 4, 8],\n",
    "    attention_resolutions=[16],\n",
    "    dropout=0.1,\n",
    "    resample_with_conv=True,\n",
    "    time_emb_dim=128,\n",
    ")\n",
    "optimizer = torch.optim.AdamW(model.parameters(), lr=0.0001, weight_decay=1e-4)\n",
    "min_rate = 0.02\n",
    "max_rate = 0.95\n",
    "timesteps = 1000\n",
    "diffusion_times = np.linspace(0, 1, timesteps)\n",
    "alpha_bars = diffusion_schedulers.cosine(diffusion_times, offset=0.008)\n",
    "signal_rates = torch.tensor(np.sqrt(alpha_bars), dtype=torch.float)\n",
    "noise_rates = torch.tensor(np.sqrt(1 - alpha_bars), dtype=torch.float)"
   ]
  },
  {
   "cell_type": "code",
   "execution_count": null,
   "metadata": {},
   "outputs": [],
   "source": [
    "model = model.load_weights(\"../data/checkpoint.pt\")"
   ]
  },
  {
   "cell_type": "code",
   "execution_count": null,
   "metadata": {},
   "outputs": [],
   "source": [
    "model = train_model(\n",
    "    model,\n",
    "    train_dataloader, \n",
    "    optimizer, \n",
    "    signal_rates, \n",
    "    noise_rates, \n",
    "    timesteps, \n",
    "    valid_dataloader, \n",
    "    epochs=epochs, \n",
    "    batch_size=batch_size, \n",
    "    checkpoint_path=\"../data/checkpoint.pt\"\n",
    ")"
   ]
  },
  {
   "cell_type": "code",
   "execution_count": null,
   "metadata": {},
   "outputs": [],
   "source": [
    "best_model = DiffusionUNet(\n",
    "    in_channels=3,\n",
    "    out_channels=3,\n",
    "    base_channels=32,\n",
    "    image_resolution=64,\n",
    "    num_res_blocks=2,\n",
    "    channel_multipliers=[1, 2, 4, 8],\n",
    "    attention_resolutions=[16],\n",
    "    dropout=0.1,\n",
    "    resample_with_conv=True,\n",
    "    time_emb_dim=128,\n",
    ")\n",
    "best_model.load_state_dict(torch.load(\"../data/checkpoint.pt\"))"
   ]
  },
  {
   "cell_type": "code",
   "execution_count": null,
   "metadata": {},
   "outputs": [],
   "source": [
    "sampled_images = ddim_sampler(\n",
    "    best_model, \n",
    "    noise_rates, \n",
    "    signal_rates, \n",
    "    timesteps,\n",
    "    step_size=20, \n",
    "    batch_size=4\n",
    ")\n",
    "sampled_images.shape"
   ]
  },
  {
   "cell_type": "code",
   "execution_count": null,
   "metadata": {},
   "outputs": [],
   "source": [
    "plt.figure(figsize=(10, 5))\n",
    "n_images = sampled_images.shape[0]\n",
    "for i in range(n_images):\n",
    "    plt.subplot(1, n_images, i + 1)\n",
    "    img = sampled_images[i].permute(1, 2, 0).numpy()\n",
    "    plt.imshow(img)\n",
    "    plt.axis('off')\n",
    "plt.tight_layout()\n",
    "plt.show()"
   ]
  },
  {
   "cell_type": "code",
   "execution_count": null,
   "metadata": {},
   "outputs": [],
   "source": []
  }
 ],
 "metadata": {
  "kernelspec": {
   "display_name": "Python 3 (ipykernel)",
   "language": "python",
   "name": "python3"
  },
  "language_info": {
   "codemirror_mode": {
    "name": "ipython",
    "version": 3
   },
   "file_extension": ".py",
   "mimetype": "text/x-python",
   "name": "python",
   "nbconvert_exporter": "python",
   "pygments_lexer": "ipython3",
   "version": "3.12.0"
  }
 },
 "nbformat": 4,
 "nbformat_minor": 4
}
